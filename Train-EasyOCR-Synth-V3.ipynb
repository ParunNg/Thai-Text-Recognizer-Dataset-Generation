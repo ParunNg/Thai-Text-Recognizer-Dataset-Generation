{
 "cells": [
  {
   "cell_type": "code",
   "execution_count": 1,
   "id": "876f07c1",
   "metadata": {},
   "outputs": [],
   "source": [
    "# !pip install --user scikit-image\n",
    "# !pip install --upgrade python-bidi\n",
    "# !pip install torchmetrics"
   ]
  },
  {
   "cell_type": "code",
   "execution_count": 2,
   "id": "c9706263",
   "metadata": {},
   "outputs": [],
   "source": [
    "import sys\n",
    "sys.path.append(\"./EasyOCR\")"
   ]
  },
  {
   "cell_type": "code",
   "execution_count": 3,
   "id": "733444f6-c71e-4d18-ac49-0117951682bb",
   "metadata": {},
   "outputs": [
    {
     "name": "stdout",
     "output_type": "stream",
     "text": [
      "Device : cuda\n"
     ]
    }
   ],
   "source": [
    "from torch.utils.data import Dataset\n",
    "from PIL import Image\n",
    "import json\n",
    "import os\n",
    "import random\n",
    "import numpy as np\n",
    "import torch\n",
    "from torch.utils.data import random_split\n",
    "from torch.nn.utils.rnn import pad_sequence\n",
    "from tqdm import tqdm\n",
    "from torch.optim import AdamW\n",
    "import matplotlib.pyplot as plt\n",
    "from torchvision import transforms\n",
    "import torch.nn as nn\n",
    "from pythainlp.tokenize import word_tokenize\n",
    "\n",
    "device = torch.device(\"cuda\" if torch.cuda.is_available() else \"cpu\")\n",
    "print(f'Device : {device}')"
   ]
  },
  {
   "cell_type": "code",
   "execution_count": 4,
   "id": "97fa9a5e-bb10-45ad-b335-4f9cdf0bd553",
   "metadata": {},
   "outputs": [],
   "source": [
    "def set_seed(seed=42):\n",
    "    random.seed(seed)\n",
    "    np.random.seed(seed)\n",
    "    torch.manual_seed(seed)\n",
    "    torch.cuda.manual_seed_all(seed)  # if using GPU\n",
    "    torch.backends.cudnn.deterministic = True\n",
    "    torch.backends.cudnn.benchmark = False\n",
    "\n",
    "set_seed(42)"
   ]
  },
  {
   "cell_type": "markdown",
   "id": "8ba91751-a46d-4c1c-bac5-5d28e77b7ebb",
   "metadata": {},
   "source": [
    "# Dataset"
   ]
  },
  {
   "cell_type": "code",
   "execution_count": 5,
   "id": "6a802e02-4ec8-43f7-90d2-bb460c6a5266",
   "metadata": {},
   "outputs": [],
   "source": [
    "from torch.utils.data import Dataset\n",
    "from PIL import Image\n",
    "import os\n",
    "import json\n",
    "import torchvision.transforms as T\n",
    "\n",
    "class EasyOCRDataset(Dataset):\n",
    "    def __init__(self, data_root, img_height=128, img_width=600, gt_filename=\"train_list.txt\"):\n",
    "        \"\"\"\n",
    "        data_root/\n",
    "        ├── train_list.txt          # lines: th_img/0/<word_1>.png\\t<label>\n",
    "        └── th_dict.txt\n",
    "        └── 0/\n",
    "            ├ <word_1>.jpg\n",
    "            ├ <word_2>.jpg\n",
    "            └ ...\n",
    "        \"\"\"\n",
    "        self.data_root = data_root\n",
    "        self.image_dir = os.path.join(data_root, \"train\")\n",
    "        gt_path = os.path.join(data_root, gt_filename)\n",
    "\n",
    "        # read gt.txt into a list of (relative_path, label)\n",
    "        self.samples = []\n",
    "        with open(gt_path, \"r\", encoding=\"utf-8\") as f:\n",
    "            for line in f:\n",
    "                rel_path, label = line.strip().split(\"\\t\", 1)\n",
    "                self.samples.append((rel_path, label))\n",
    "\n",
    "        # transforms: grayscale → resize → tensor → normalize\n",
    "        self.transform = T.Compose([\n",
    "            T.Grayscale(num_output_channels=1),\n",
    "            T.Resize((img_height, img_width)),\n",
    "            T.ToTensor(),\n",
    "            T.Normalize(mean=[0.5], std=[0.5])\n",
    "        ])\n",
    "\n",
    "    def __len__(self):\n",
    "        return len(self.samples)\n",
    "\n",
    "    def __getitem__(self, idx):\n",
    "        rel_path, label = self.samples[idx]\n",
    "        img_path = rel_path\n",
    "\n",
    "        # load & transform\n",
    "        image = Image.open(img_path).convert(\"RGB\")\n",
    "        image = self.transform(image)  # [1, H, W]\n",
    "\n",
    "        return image, label"
   ]
  },
  {
   "cell_type": "code",
   "execution_count": 6,
   "id": "5c5dd349-e84e-42ab-a04b-c168f9345b48",
   "metadata": {},
   "outputs": [],
   "source": [
    "import torch\n",
    "from torch.utils.data import DataLoader, random_split, Subset\n",
    "\n",
    "# Load the dataset\n",
    "train_dataset = EasyOCRDataset(\"./th_img\", gt_filename=\"train_list.txt\")\n",
    "valid_dataset = EasyOCRDataset(\"./th_img\", gt_filename=\"val_list.txt\")\n",
    "\n",
    "# Set seed for reproducibility\n",
    "seed = 42\n",
    "batch_size = 16\n",
    "generator = torch.Generator().manual_seed(seed)\n",
    "\n",
    "# Shuffle indices manually\n",
    "indices = list(range(len(train_dataset)))\n",
    "random.Random(seed).shuffle(indices)\n",
    "\n",
    "# # Take only the first 100000 shuffled indices\n",
    "# limited_indices = indices[:100000]\n",
    "limited_indices = indices[:]\n",
    "\n",
    "# Create a shuffled subset\n",
    "shuffled_train_set = Subset(train_dataset, limited_indices)\n",
    "\n",
    "# Split lengths\n",
    "train_len = len(shuffled_train_set)\n",
    "val_test_len = len(valid_dataset)\n",
    "valid_len = int(val_test_len * 0.5)\n",
    "test_len = val_test_len - valid_len\n",
    "\n",
    "# Split the dataset\n",
    "valid_set, test_set = random_split(valid_dataset, [valid_len, test_len], generator=generator)\n",
    "\n",
    "# Create DataLoaders\n",
    "train_loader = DataLoader(shuffled_train_set, batch_size=batch_size, shuffle=True)\n",
    "valid_loader = DataLoader(valid_set, batch_size=batch_size, shuffle=False)\n",
    "test_loader  = DataLoader(test_set,  batch_size=batch_size, shuffle=False)"
   ]
  },
  {
   "cell_type": "code",
   "execution_count": 7,
   "id": "ec5fc7f3",
   "metadata": {},
   "outputs": [],
   "source": [
    "# simple validation loop\n",
    "def validate(model, loader, converter, device):\n",
    "    model.eval()\n",
    "    correct, total = 0, 0\n",
    "    with torch.no_grad():\n",
    "        for imgs, labels in loader:\n",
    "            imgs = imgs.to(device)\n",
    "            logits = model(imgs)           # raw CTC logits\n",
    "            preds  = converter.decode(logits.softmax(-1))\n",
    "            for p,t in zip(preds, labels):\n",
    "                if p == t: correct += 1\n",
    "                total  += 1\n",
    "    return correct/total"
   ]
  },
  {
   "cell_type": "code",
   "execution_count": 8,
   "id": "2b0ea712-a260-4c9c-8d94-1e6f7f1bb3cd",
   "metadata": {},
   "outputs": [
    {
     "name": "stdout",
     "output_type": "stream",
     "text": [
      "Len Training data : 197995\n"
     ]
    }
   ],
   "source": [
    "print(f'Len Training data : {train_len}')"
   ]
  },
  {
   "cell_type": "code",
   "execution_count": 9,
   "id": "9b001b6b-de13-4e32-a54a-54ccb63611aa",
   "metadata": {},
   "outputs": [
    {
     "name": "stdout",
     "output_type": "stream",
     "text": [
      "Len Valid data : 1000\n"
     ]
    }
   ],
   "source": [
    "print(f'Len Valid data : {valid_len}')"
   ]
  },
  {
   "cell_type": "code",
   "execution_count": 10,
   "id": "6b939911-eb46-4b11-8d90-7c295b13ba58",
   "metadata": {},
   "outputs": [
    {
     "name": "stdout",
     "output_type": "stream",
     "text": [
      "Len Test data : 1000\n"
     ]
    }
   ],
   "source": [
    "print(f'Len Test data : {test_len}')"
   ]
  },
  {
   "cell_type": "code",
   "execution_count": 11,
   "id": "49c15288-5ddb-493d-818b-5ae0fa0c4fc2",
   "metadata": {},
   "outputs": [
    {
     "name": "stdout",
     "output_type": "stream",
     "text": [
      "torch.Size([16, 1, 128, 600])\n",
      "('หรือประกันสังคม', 'ป.ป.ช.หรือไม่', '204/1', '๓๘๑', 'อาจมาจากพม่า', 'กลัวโดนทำโทษ', 'คือสมชาย', 'นครไป', 'ไปให้มันยิงอีก', 'ผ่านสยามพารากอล', '(王文華)', 'กานไม้', 'มีนายมูหัมมัด', 'จุลพันธุ์', 'ครัมเมอนาเช', 'และเมื่อมีการทำ')\n"
     ]
    }
   ],
   "source": [
    "for images, labels in train_loader:\n",
    "    print(images.shape)\n",
    "    print(labels)\n",
    "    break"
   ]
  },
  {
   "cell_type": "code",
   "execution_count": 12,
   "id": "561617d7-6304-4975-aff5-d687e6afed62",
   "metadata": {},
   "outputs": [
    {
     "data": {
      "text/plain": [
       "('หรือประกันสังคม',\n",
       " 'ป.ป.ช.หรือไม่',\n",
       " '204/1',\n",
       " '๓๘๑',\n",
       " 'อาจมาจากพม่า',\n",
       " 'กลัวโดนทำโทษ',\n",
       " 'คือสมชาย',\n",
       " 'นครไป',\n",
       " 'ไปให้มันยิงอีก',\n",
       " 'ผ่านสยามพารากอล',\n",
       " '(王文華)',\n",
       " 'กานไม้',\n",
       " 'มีนายมูหัมมัด',\n",
       " 'จุลพันธุ์',\n",
       " 'ครัมเมอนาเช',\n",
       " 'และเมื่อมีการทำ')"
      ]
     },
     "execution_count": 12,
     "metadata": {},
     "output_type": "execute_result"
    }
   ],
   "source": [
    "labels"
   ]
  },
  {
   "cell_type": "code",
   "execution_count": 13,
   "id": "afe1e759-54cb-4df5-b663-caddb24fb695",
   "metadata": {},
   "outputs": [
    {
     "name": "stdout",
     "output_type": "stream",
     "text": [
      "หรือประกันสังคม\n",
      "ป.ป.ช.หรือไม่\n",
      "204/1\n",
      "๓๘๑\n",
      "อาจมาจากพม่า\n",
      "กลัวโดนทำโทษ\n",
      "คือสมชาย\n",
      "นครไป\n"
     ]
    },
    {
     "data": {
      "image/png": "[encoded data removed]",
      "text/plain": [
       "<Figure size 1600x400 with 8 Axes>"
      ]
     },
     "metadata": {},
     "output_type": "display_data"
    }
   ],
   "source": [
    "# Pick a few samples to display\n",
    "num_to_display = 8\n",
    "images_to_show = images[:num_to_display]\n",
    "labels_to_show = labels[:num_to_display]\n",
    "\n",
    "# Denormalize images (from [-1, 1] back to [0, 1])\n",
    "images_to_show = images_to_show * 0.5 + 0.5  # Because normalized with mean=0.5, std=0.5\n",
    "\n",
    "# Plot\n",
    "plt.figure(figsize=(16, 4))\n",
    "for i in range(num_to_display):\n",
    "    img = images_to_show[i].squeeze(0).cpu().numpy()  # shape: [32, 160]\n",
    "    print(labels_to_show[i][:30])\n",
    "\n",
    "    plt.subplot(1, num_to_display, i + 1)\n",
    "    plt.imshow(img, cmap='gray')\n",
    "    #plt.title(f\"{labels_to_show[i][:30]}...\", fontsize=8)  # Truncate long text\n",
    "    plt.axis('off')\n",
    "\n",
    "plt.suptitle(\"Sample Images and Labels\", fontsize=12)\n",
    "plt.tight_layout()\n",
    "plt.show()"
   ]
  },
  {
   "cell_type": "markdown",
   "id": "90454679-e01e-4fee-8699-7c7072237d01",
   "metadata": {},
   "source": [
    "# Model"
   ]
  },
  {
   "cell_type": "code",
   "execution_count": 14,
   "id": "ff16a4cf-59bd-4807-9948-14317e9aef89",
   "metadata": {},
   "outputs": [],
   "source": [
    "# import torch.nn as nn\n",
    "# from EasyOCR.easyocr.easyocr import Reader\n",
    "\n",
    "# # Step 1: Initialize Reader for Thai\n",
    "# reader = Reader(['th'], gpu=True)\n",
    "# character_set = reader.character  # this is the character set used by the model\n",
    "\n",
    "# # === Step 1: Prepare Model Config ===\n",
    "# lang = 'th_custom'\n",
    "# # recog_network = 'generation1' # Or another network architecture\n",
    "# device = 'cuda' if torch.cuda.is_available() else 'cpu'"
   ]
  },
  {
   "cell_type": "code",
   "execution_count": 15,
   "id": "f4711335-3387-41f1-8501-b130864a1467",
   "metadata": {},
   "outputs": [],
   "source": [
    "# import torch\n",
    "# from torchvision import transforms\n",
    "# from PIL import Image, ImageEnhance\n",
    "# from collections import OrderedDict\n",
    "# import importlib\n",
    "# import numpy as np\n",
    "# import torch.nn.functional as F\n",
    "\n",
    "# from EasyOCR.easyocr.utils import CTCLabelConverter\n",
    "# from EasyOCR.easyocr.config import recognition_models\n",
    "\n",
    "# # === Step 1: Prepare Model Config ===\n",
    "# lang = 'th'\n",
    "# recog_network = 'generation1'\n",
    "# device = 'cuda' if torch.cuda.is_available() else 'cpu'\n",
    "# model_config = recognition_models['gen1']['thai_g1']\n",
    "\n",
    "# # character = model_config['characters']\n",
    "# character = character_set\n",
    "# model_path = f'./pretrained/{model_config[\"filename\"]}'\n",
    "\n",
    "# # === Step 2: Setup Converter & Params ===\n",
    "# converter = CTCLabelConverter(character)\n",
    "# num_class = len(converter.character)\n",
    "# ignore_idx = []\n",
    "\n",
    "# network_params = {\n",
    "#     'input_channel': 1,\n",
    "#     'output_channel': 512,\n",
    "#     'hidden_size': 512\n",
    "# }\n",
    "\n",
    "# # === Step 3: Load Model with Strict Check ===\n",
    "# model_pkg = importlib.import_module(\"easyocr.model.model\")\n",
    "# model = model_pkg.Model(num_class=num_class, **network_params)\n",
    "\n",
    "# state_dict = torch.load(model_path, map_location=device)\n",
    "# new_state_dict = OrderedDict((k[7:], v) if k.startswith(\"module.\") else (k, v) for k, v in state_dict.items())\n",
    "\n",
    "# load_result = model.load_state_dict(new_state_dict, strict=False)\n",
    "# if load_result.missing_keys or load_result.unexpected_keys:\n",
    "#     print(\"⚠️ Weight loading issues:\")\n",
    "#     if load_result.missing_keys:\n",
    "#         print(\"Missing keys:\", load_result.missing_keys)\n",
    "#     if load_result.unexpected_keys:\n",
    "#         print(\"Unexpected keys:\", load_result.unexpected_keys)\n",
    "#     raise ValueError(\"Model weights mismatch. Aborting due to strict=True policy.\")\n",
    "    \n",
    "\n",
    "# model.load_state_dict(new_state_dict, strict=True)\n",
    "# model = model.to(device)"
   ]
  },
  {
   "cell_type": "code",
   "execution_count": 16,
   "id": "2f848bfb-bdb9-4c9f-b7f5-0a280d7c3d2c",
   "metadata": {},
   "outputs": [],
   "source": [
    "import torch\n",
    "from torchvision import transforms\n",
    "from PIL import Image, ImageEnhance\n",
    "from collections import OrderedDict\n",
    "import importlib\n",
    "import numpy as np\n",
    "import torch.nn.functional as F\n",
    "\n",
    "from easyocr.utils import CTCLabelConverter\n",
    "from easyocr.config import recognition_models"
   ]
  },
  {
   "cell_type": "code",
   "execution_count": 17,
   "id": "80236a6a",
   "metadata": {},
   "outputs": [],
   "source": [
    "def get_labels_from_txt(label_path, delim=\"\\t\"):\n",
    "    all_labels = []\n",
    "    with open(label_path, \"r\", encoding=\"utf-8\") as f:\n",
    "        for line in f:\n",
    "            rel_path, label = line.strip().split(delim, 1)\n",
    "            all_labels.append(label)\n",
    "\n",
    "    return all_labels"
   ]
  },
  {
   "cell_type": "code",
   "execution_count": 18,
   "id": "ea365e56-3ac1-4547-8c57-d8377a97ff42",
   "metadata": {},
   "outputs": [
    {
     "name": "stdout",
     "output_type": "stream",
     "text": [
      "✅ Found 157 new character(s) missing from your set:\n",
      "   New Characters: ¡¢¤§´¶·¹º¾ÁÃÄÅÇÉÍÒÓÙàáâäçèéíïòóùüćıآأإابتجدرسضعقكلمنهويٌَُِّْچڠڤฦฺๅ๐๑๒๓๔๕๖๗๘๙ຂງຕນບປພສອັາິີືົເ່ỏốự​‎‏–—‘’•‪‬、がしにのみッドバラ八凱大安家平年幸廸张快文新朱果樂王祝福華鄉陈교대상육정학화！\n",
      "\n",
      "Updated character set size: 333\n",
      "--------------------------------------------------\n"
     ]
    }
   ],
   "source": [
    "# === Step 1: Prepare Model Config ===\n",
    "lang = 'th'\n",
    "recog_network = 'generation1'\n",
    "device = 'cuda' if torch.cuda.is_available() else 'cpu'\n",
    "model_config = recognition_models['gen1']['thai_g1']\n",
    "\n",
    "# read th_dict.txt into a list of labels\n",
    "dict_path = \"th_img/th_dict.txt\"\n",
    "chars = []\n",
    "\n",
    "with open(dict_path, \"r\", encoding=\"utf-8\") as f:\n",
    "    for line in f:\n",
    "        char = line.split(\"\\n\", -1)[0]\n",
    "        chars.append(char)\n",
    "\n",
    "# Create a set of all unique characters present in your text dictionary\n",
    "base_character_set = \"\".join(set(\"\".join(chars)))\n",
    "\n",
    "\n",
    "# read train_list.txt into a list of labels\n",
    "all_labels = get_labels_from_txt(\"th_img/train_list.txt\")\n",
    "val_labels = get_labels_from_txt(\"th_img/val_list.txt\")\n",
    "all_labels.extend(val_labels)\n",
    "\n",
    "# Create a set of all unique characters present in your text data\n",
    "all_chars_from_text = set(\"\".join(all_labels))\n",
    "# Convert your base character set to a set for easy comparison\n",
    "existing_chars_set = set(base_character_set)\n",
    "newly_found_chars = all_chars_from_text - existing_chars_set\n",
    "\n",
    "character_set = base_character_set\n",
    "\n",
    "if newly_found_chars:\n",
    "    # Sort the new characters for consistent ordering\n",
    "    new_chars_to_add = \"\".join(sorted(list(newly_found_chars)))\n",
    "    \n",
    "    print(f\"✅ Found {len(new_chars_to_add)} new character(s) missing from your set:\")\n",
    "    print(f\"   New Characters: {new_chars_to_add}\")\n",
    "    \n",
    "    # Append the new characters to your base set\n",
    "    character_set += new_chars_to_add\n",
    "    \n",
    "    print(f\"\\nUpdated character set size: {len(character_set)}\")\n",
    "\n",
    "else:\n",
    "    print(\"✅ No new characters were found.\")\n",
    "    print(\"   Your character set is already complete for this data.\")\n",
    "\n",
    "print(\"-\" * 50)"
   ]
  },
  {
   "cell_type": "code",
   "execution_count": 19,
   "id": "73735880-a427-4ef6-bd34-3a3d9cfd88e8",
   "metadata": {},
   "outputs": [
    {
     "name": "stderr",
     "output_type": "stream",
     "text": [
      "C:\\Users\\Admin\\AppData\\Local\\Temp\\ipykernel_25548\\2157011951.py:28: FutureWarning: You are using `torch.load` with `weights_only=False` (the current default value), which uses the default pickle module implicitly. It is possible to construct malicious pickle data which will execute arbitrary code during unpickling (See https://github.com/pytorch/pytorch/blob/main/SECURITY.md#untrusted-models for more details). In a future release, the default value for `weights_only` will be flipped to `True`. This limits the functions that could be executed during unpickling. Arbitrary objects will no longer be allowed to be loaded via this mode unless they are explicitly allowlisted by the user via `torch.serialization.add_safe_globals`. We recommend you start setting `weights_only=True` for any use case where you don't have full control of the loaded file. Please open an issue on GitHub for any issues related to this experimental feature.\n",
      "  state_dict = torch.load(model_path, map_location=device)\n"
     ]
    },
    {
     "name": "stdout",
     "output_type": "stream",
     "text": [
      "Keys available in the model's state_dict:\n",
      "['FeatureExtraction.ConvNet.conv0_1.weight', 'FeatureExtraction.ConvNet.bn0_1.weight', 'FeatureExtraction.ConvNet.bn0_1.bias', 'FeatureExtraction.ConvNet.bn0_1.running_mean', 'FeatureExtraction.ConvNet.bn0_1.running_var', 'FeatureExtraction.ConvNet.bn0_1.num_batches_tracked', 'FeatureExtraction.ConvNet.conv0_2.weight', 'FeatureExtraction.ConvNet.bn0_2.weight', 'FeatureExtraction.ConvNet.bn0_2.bias', 'FeatureExtraction.ConvNet.bn0_2.running_mean', 'FeatureExtraction.ConvNet.bn0_2.running_var', 'FeatureExtraction.ConvNet.bn0_2.num_batches_tracked', 'FeatureExtraction.ConvNet.layer1.0.conv1.weight', 'FeatureExtraction.ConvNet.layer1.0.bn1.weight', 'FeatureExtraction.ConvNet.layer1.0.bn1.bias', 'FeatureExtraction.ConvNet.layer1.0.bn1.running_mean', 'FeatureExtraction.ConvNet.layer1.0.bn1.running_var', 'FeatureExtraction.ConvNet.layer1.0.bn1.num_batches_tracked', 'FeatureExtraction.ConvNet.layer1.0.conv2.weight', 'FeatureExtraction.ConvNet.layer1.0.bn2.weight', 'FeatureExtraction.ConvNet.layer1.0.bn2.bias', 'FeatureExtraction.ConvNet.layer1.0.bn2.running_mean', 'FeatureExtraction.ConvNet.layer1.0.bn2.running_var', 'FeatureExtraction.ConvNet.layer1.0.bn2.num_batches_tracked', 'FeatureExtraction.ConvNet.layer1.0.downsample.0.weight', 'FeatureExtraction.ConvNet.layer1.0.downsample.1.weight', 'FeatureExtraction.ConvNet.layer1.0.downsample.1.bias', 'FeatureExtraction.ConvNet.layer1.0.downsample.1.running_mean', 'FeatureExtraction.ConvNet.layer1.0.downsample.1.running_var', 'FeatureExtraction.ConvNet.layer1.0.downsample.1.num_batches_tracked', 'FeatureExtraction.ConvNet.conv1.weight', 'FeatureExtraction.ConvNet.bn1.weight', 'FeatureExtraction.ConvNet.bn1.bias', 'FeatureExtraction.ConvNet.bn1.running_mean', 'FeatureExtraction.ConvNet.bn1.running_var', 'FeatureExtraction.ConvNet.bn1.num_batches_tracked', 'FeatureExtraction.ConvNet.layer2.0.conv1.weight', 'FeatureExtraction.ConvNet.layer2.0.bn1.weight', 'FeatureExtraction.ConvNet.layer2.0.bn1.bias', 'FeatureExtraction.ConvNet.layer2.0.bn1.running_mean', 'FeatureExtraction.ConvNet.layer2.0.bn1.running_var', 'FeatureExtraction.ConvNet.layer2.0.bn1.num_batches_tracked', 'FeatureExtraction.ConvNet.layer2.0.conv2.weight', 'FeatureExtraction.ConvNet.layer2.0.bn2.weight', 'FeatureExtraction.ConvNet.layer2.0.bn2.bias', 'FeatureExtraction.ConvNet.layer2.0.bn2.running_mean', 'FeatureExtraction.ConvNet.layer2.0.bn2.running_var', 'FeatureExtraction.ConvNet.layer2.0.bn2.num_batches_tracked', 'FeatureExtraction.ConvNet.layer2.0.downsample.0.weight', 'FeatureExtraction.ConvNet.layer2.0.downsample.1.weight', 'FeatureExtraction.ConvNet.layer2.0.downsample.1.bias', 'FeatureExtraction.ConvNet.layer2.0.downsample.1.running_mean', 'FeatureExtraction.ConvNet.layer2.0.downsample.1.running_var', 'FeatureExtraction.ConvNet.layer2.0.downsample.1.num_batches_tracked', 'FeatureExtraction.ConvNet.layer2.1.conv1.weight', 'FeatureExtraction.ConvNet.layer2.1.bn1.weight', 'FeatureExtraction.ConvNet.layer2.1.bn1.bias', 'FeatureExtraction.ConvNet.layer2.1.bn1.running_mean', 'FeatureExtraction.ConvNet.layer2.1.bn1.running_var', 'FeatureExtraction.ConvNet.layer2.1.bn1.num_batches_tracked', 'FeatureExtraction.ConvNet.layer2.1.conv2.weight', 'FeatureExtraction.ConvNet.layer2.1.bn2.weight', 'FeatureExtraction.ConvNet.layer2.1.bn2.bias', 'FeatureExtraction.ConvNet.layer2.1.bn2.running_mean', 'FeatureExtraction.ConvNet.layer2.1.bn2.running_var', 'FeatureExtraction.ConvNet.layer2.1.bn2.num_batches_tracked', 'FeatureExtraction.ConvNet.conv2.weight', 'FeatureExtraction.ConvNet.bn2.weight', 'FeatureExtraction.ConvNet.bn2.bias', 'FeatureExtraction.ConvNet.bn2.running_mean', 'FeatureExtraction.ConvNet.bn2.running_var', 'FeatureExtraction.ConvNet.bn2.num_batches_tracked', 'FeatureExtraction.ConvNet.layer3.0.conv1.weight', 'FeatureExtraction.ConvNet.layer3.0.bn1.weight', 'FeatureExtraction.ConvNet.layer3.0.bn1.bias', 'FeatureExtraction.ConvNet.layer3.0.bn1.running_mean', 'FeatureExtraction.ConvNet.layer3.0.bn1.running_var', 'FeatureExtraction.ConvNet.layer3.0.bn1.num_batches_tracked', 'FeatureExtraction.ConvNet.layer3.0.conv2.weight', 'FeatureExtraction.ConvNet.layer3.0.bn2.weight', 'FeatureExtraction.ConvNet.layer3.0.bn2.bias', 'FeatureExtraction.ConvNet.layer3.0.bn2.running_mean', 'FeatureExtraction.ConvNet.layer3.0.bn2.running_var', 'FeatureExtraction.ConvNet.layer3.0.bn2.num_batches_tracked', 'FeatureExtraction.ConvNet.layer3.0.downsample.0.weight', 'FeatureExtraction.ConvNet.layer3.0.downsample.1.weight', 'FeatureExtraction.ConvNet.layer3.0.downsample.1.bias', 'FeatureExtraction.ConvNet.layer3.0.downsample.1.running_mean', 'FeatureExtraction.ConvNet.layer3.0.downsample.1.running_var', 'FeatureExtraction.ConvNet.layer3.0.downsample.1.num_batches_tracked', 'FeatureExtraction.ConvNet.layer3.1.conv1.weight', 'FeatureExtraction.ConvNet.layer3.1.bn1.weight', 'FeatureExtraction.ConvNet.layer3.1.bn1.bias', 'FeatureExtraction.ConvNet.layer3.1.bn1.running_mean', 'FeatureExtraction.ConvNet.layer3.1.bn1.running_var', 'FeatureExtraction.ConvNet.layer3.1.bn1.num_batches_tracked', 'FeatureExtraction.ConvNet.layer3.1.conv2.weight', 'FeatureExtraction.ConvNet.layer3.1.bn2.weight', 'FeatureExtraction.ConvNet.layer3.1.bn2.bias', 'FeatureExtraction.ConvNet.layer3.1.bn2.running_mean', 'FeatureExtraction.ConvNet.layer3.1.bn2.running_var', 'FeatureExtraction.ConvNet.layer3.1.bn2.num_batches_tracked', 'FeatureExtraction.ConvNet.layer3.2.conv1.weight', 'FeatureExtraction.ConvNet.layer3.2.bn1.weight', 'FeatureExtraction.ConvNet.layer3.2.bn1.bias', 'FeatureExtraction.ConvNet.layer3.2.bn1.running_mean', 'FeatureExtraction.ConvNet.layer3.2.bn1.running_var', 'FeatureExtraction.ConvNet.layer3.2.bn1.num_batches_tracked', 'FeatureExtraction.ConvNet.layer3.2.conv2.weight', 'FeatureExtraction.ConvNet.layer3.2.bn2.weight', 'FeatureExtraction.ConvNet.layer3.2.bn2.bias', 'FeatureExtraction.ConvNet.layer3.2.bn2.running_mean', 'FeatureExtraction.ConvNet.layer3.2.bn2.running_var', 'FeatureExtraction.ConvNet.layer3.2.bn2.num_batches_tracked', 'FeatureExtraction.ConvNet.layer3.3.conv1.weight', 'FeatureExtraction.ConvNet.layer3.3.bn1.weight', 'FeatureExtraction.ConvNet.layer3.3.bn1.bias', 'FeatureExtraction.ConvNet.layer3.3.bn1.running_mean', 'FeatureExtraction.ConvNet.layer3.3.bn1.running_var', 'FeatureExtraction.ConvNet.layer3.3.bn1.num_batches_tracked', 'FeatureExtraction.ConvNet.layer3.3.conv2.weight', 'FeatureExtraction.ConvNet.layer3.3.bn2.weight', 'FeatureExtraction.ConvNet.layer3.3.bn2.bias', 'FeatureExtraction.ConvNet.layer3.3.bn2.running_mean', 'FeatureExtraction.ConvNet.layer3.3.bn2.running_var', 'FeatureExtraction.ConvNet.layer3.3.bn2.num_batches_tracked', 'FeatureExtraction.ConvNet.layer3.4.conv1.weight', 'FeatureExtraction.ConvNet.layer3.4.bn1.weight', 'FeatureExtraction.ConvNet.layer3.4.bn1.bias', 'FeatureExtraction.ConvNet.layer3.4.bn1.running_mean', 'FeatureExtraction.ConvNet.layer3.4.bn1.running_var', 'FeatureExtraction.ConvNet.layer3.4.bn1.num_batches_tracked', 'FeatureExtraction.ConvNet.layer3.4.conv2.weight', 'FeatureExtraction.ConvNet.layer3.4.bn2.weight', 'FeatureExtraction.ConvNet.layer3.4.bn2.bias', 'FeatureExtraction.ConvNet.layer3.4.bn2.running_mean', 'FeatureExtraction.ConvNet.layer3.4.bn2.running_var', 'FeatureExtraction.ConvNet.layer3.4.bn2.num_batches_tracked', 'FeatureExtraction.ConvNet.conv3.weight', 'FeatureExtraction.ConvNet.bn3.weight', 'FeatureExtraction.ConvNet.bn3.bias', 'FeatureExtraction.ConvNet.bn3.running_mean', 'FeatureExtraction.ConvNet.bn3.running_var', 'FeatureExtraction.ConvNet.bn3.num_batches_tracked', 'FeatureExtraction.ConvNet.layer4.0.conv1.weight', 'FeatureExtraction.ConvNet.layer4.0.bn1.weight', 'FeatureExtraction.ConvNet.layer4.0.bn1.bias', 'FeatureExtraction.ConvNet.layer4.0.bn1.running_mean', 'FeatureExtraction.ConvNet.layer4.0.bn1.running_var', 'FeatureExtraction.ConvNet.layer4.0.bn1.num_batches_tracked', 'FeatureExtraction.ConvNet.layer4.0.conv2.weight', 'FeatureExtraction.ConvNet.layer4.0.bn2.weight', 'FeatureExtraction.ConvNet.layer4.0.bn2.bias', 'FeatureExtraction.ConvNet.layer4.0.bn2.running_mean', 'FeatureExtraction.ConvNet.layer4.0.bn2.running_var', 'FeatureExtraction.ConvNet.layer4.0.bn2.num_batches_tracked', 'FeatureExtraction.ConvNet.layer4.1.conv1.weight', 'FeatureExtraction.ConvNet.layer4.1.bn1.weight', 'FeatureExtraction.ConvNet.layer4.1.bn1.bias', 'FeatureExtraction.ConvNet.layer4.1.bn1.running_mean', 'FeatureExtraction.ConvNet.layer4.1.bn1.running_var', 'FeatureExtraction.ConvNet.layer4.1.bn1.num_batches_tracked', 'FeatureExtraction.ConvNet.layer4.1.conv2.weight', 'FeatureExtraction.ConvNet.layer4.1.bn2.weight', 'FeatureExtraction.ConvNet.layer4.1.bn2.bias', 'FeatureExtraction.ConvNet.layer4.1.bn2.running_mean', 'FeatureExtraction.ConvNet.layer4.1.bn2.running_var', 'FeatureExtraction.ConvNet.layer4.1.bn2.num_batches_tracked', 'FeatureExtraction.ConvNet.layer4.2.conv1.weight', 'FeatureExtraction.ConvNet.layer4.2.bn1.weight', 'FeatureExtraction.ConvNet.layer4.2.bn1.bias', 'FeatureExtraction.ConvNet.layer4.2.bn1.running_mean', 'FeatureExtraction.ConvNet.layer4.2.bn1.running_var', 'FeatureExtraction.ConvNet.layer4.2.bn1.num_batches_tracked', 'FeatureExtraction.ConvNet.layer4.2.conv2.weight', 'FeatureExtraction.ConvNet.layer4.2.bn2.weight', 'FeatureExtraction.ConvNet.layer4.2.bn2.bias', 'FeatureExtraction.ConvNet.layer4.2.bn2.running_mean', 'FeatureExtraction.ConvNet.layer4.2.bn2.running_var', 'FeatureExtraction.ConvNet.layer4.2.bn2.num_batches_tracked', 'FeatureExtraction.ConvNet.conv4_1.weight', 'FeatureExtraction.ConvNet.bn4_1.weight', 'FeatureExtraction.ConvNet.bn4_1.bias', 'FeatureExtraction.ConvNet.bn4_1.running_mean', 'FeatureExtraction.ConvNet.bn4_1.running_var', 'FeatureExtraction.ConvNet.bn4_1.num_batches_tracked', 'FeatureExtraction.ConvNet.conv4_2.weight', 'FeatureExtraction.ConvNet.bn4_2.weight', 'FeatureExtraction.ConvNet.bn4_2.bias', 'FeatureExtraction.ConvNet.bn4_2.running_mean', 'FeatureExtraction.ConvNet.bn4_2.running_var', 'FeatureExtraction.ConvNet.bn4_2.num_batches_tracked', 'SequenceModeling.0.rnn.weight_ih_l0', 'SequenceModeling.0.rnn.weight_hh_l0', 'SequenceModeling.0.rnn.bias_ih_l0', 'SequenceModeling.0.rnn.bias_hh_l0', 'SequenceModeling.0.rnn.weight_ih_l0_reverse', 'SequenceModeling.0.rnn.weight_hh_l0_reverse', 'SequenceModeling.0.rnn.bias_ih_l0_reverse', 'SequenceModeling.0.rnn.bias_hh_l0_reverse', 'SequenceModeling.0.linear.weight', 'SequenceModeling.0.linear.bias', 'SequenceModeling.1.rnn.weight_ih_l0', 'SequenceModeling.1.rnn.weight_hh_l0', 'SequenceModeling.1.rnn.bias_ih_l0', 'SequenceModeling.1.rnn.bias_hh_l0', 'SequenceModeling.1.rnn.weight_ih_l0_reverse', 'SequenceModeling.1.rnn.weight_hh_l0_reverse', 'SequenceModeling.1.rnn.bias_ih_l0_reverse', 'SequenceModeling.1.rnn.bias_hh_l0_reverse', 'SequenceModeling.1.linear.weight', 'SequenceModeling.1.linear.bias', 'Prediction.weight', 'Prediction.bias']\n",
      "--------------------------------------------------\n",
      "⚠️ Number of classes differs. Pretrained model has 177, your model has 334.\n",
      "Re-initializing the final prediction layer.\n",
      "Missing keys: ['Prediction.weight', 'Prediction.bias']\n",
      "Unexpected keys: []\n",
      "\n",
      "✅ Model setup complete with the custom character set.\n",
      "Character set contains 333 characters.\n"
     ]
    }
   ],
   "source": [
    "# Use the custom character set\n",
    "character = character_set\n",
    "model_path = f'./pretrained/{model_config[\"filename\"]}'\n",
    "\n",
    "# === Step 2: Setup Converter & Params ===\n",
    "converter = CTCLabelConverter(character)\n",
    "num_class = len(converter.character)\n",
    "# The ignore_idx is handled by the converter, no need to set it manually\n",
    "\n",
    "network_params = {\n",
    "    'input_channel': 1,\n",
    "    'output_channel': 512,\n",
    "    'hidden_size': 512,\n",
    "    'num_class': num_class  # Pass num_class to the model constructor\n",
    "}\n",
    "\n",
    "# === Step 3: Load Model with Strict Check ===\n",
    "model_pkg = importlib.import_module(\"easyocr.model.model\")\n",
    "# Ensure the model architecture matches what you're loading\n",
    "# If you are using a custom model, you might need to adjust this.\n",
    "# For standard models, the network_params should be sufficient.\n",
    "model = model_pkg.Model(**network_params)\n",
    "\n",
    "# It's generally better to load the pretrained model first and then\n",
    "# adapt the final classification layer for your custom number of classes.\n",
    "\n",
    "# Load the pretrained weights\n",
    "state_dict = torch.load(model_path, map_location=device)\n",
    "# First, create the new state_dict by stripping the 'module.' prefix\n",
    "new_state_dict = OrderedDict((k[7:], v) if k.startswith(\"module.\") else (k, v) for k, v in state_dict.items())\n",
    "\n",
    "# **DEBUG**: Print all the keys in the new state_dict to see what's available\n",
    "print(\"Keys available in the model's state_dict:\")\n",
    "print(list(new_state_dict.keys()))\n",
    "print(\"-\" * 50)\n",
    "\n",
    "\n",
    "# Now, access the cleaned key 'Prediction.weight' to get the size\n",
    "# Also, add a check to ensure the key exists before accessing it\n",
    "prediction_weight_key = 'Prediction.weight'\n",
    "if prediction_weight_key not in new_state_dict:\n",
    "    raise KeyError(f\"The key '{prediction_weight_key}' was not found in the model state_dict. \"\n",
    "                   f\"Please check the printed keys above to find the correct key for the final prediction layer's weights.\")\n",
    "\n",
    "pretrained_num_class = new_state_dict[prediction_weight_key].shape[0]\n",
    "\n",
    "# If the number of classes is different, re-initialize the final layer.\n",
    "if num_class != pretrained_num_class:\n",
    "    print(f\"⚠️ Number of classes differs. Pretrained model has {pretrained_num_class}, your model has {num_class}.\")\n",
    "    print(\"Re-initializing the final prediction layer.\")\n",
    "    # Remove the old prediction layer weights so they aren't loaded\n",
    "    del new_state_dict['Prediction.weight']\n",
    "    del new_state_dict['Prediction.bias']\n",
    "\n",
    "    # Load all other weights with strict=False\n",
    "    load_result = model.load_state_dict(new_state_dict, strict=False)\n",
    "    print(\"Missing keys:\", load_result.missing_keys) # Should be ['Prediction.weight', 'Prediction.bias']\n",
    "    print(\"Unexpected keys:\", load_result.unexpected_keys)\n",
    "\n",
    "else:\n",
    "    # If number of classes is the same, load everything strictly\n",
    "    model.load_state_dict(new_state_dict, strict=True)\n",
    "\n",
    "model = model.to(device)\n",
    "\n",
    "print(\"\\n✅ Model setup complete with the custom character set.\")\n",
    "print(f\"Character set contains {len(character)} characters.\")"
   ]
  },
  {
   "cell_type": "code",
   "execution_count": 20,
   "id": "4f8555fd",
   "metadata": {},
   "outputs": [
    {
     "data": {
      "text/plain": [
       "333"
      ]
     },
     "execution_count": 20,
     "metadata": {},
     "output_type": "execute_result"
    }
   ],
   "source": [
    "len(character)"
   ]
  },
  {
   "cell_type": "code",
   "execution_count": 21,
   "id": "96109f0e",
   "metadata": {},
   "outputs": [
    {
     "name": "stdout",
     "output_type": "stream",
     "text": [
      "✅ Character set successfully saved to: models/synth-v3\\custom_char.txt\n",
      "\tTotal characters saved: 333\n"
     ]
    }
   ],
   "source": [
    "# Folder setup\n",
    "metrics_dir = \"metrics/synth-v3\"\n",
    "model_dir = \"models/synth-v3\"\n",
    "os.makedirs(metrics_dir, exist_ok=True)\n",
    "os.makedirs(model_dir, exist_ok=True)\n",
    "\n",
    "# The path where you want to save the file\n",
    "char_file_path = os.path.join(model_dir, \"custom_char.txt\")\n",
    "\n",
    "try:\n",
    "    # Use 'utf-8' encoding, which is crucial for handling Thai characters\n",
    "    with open(char_file_path, 'w', encoding='utf-8') as f:\n",
    "        f.write(character_set)\n",
    "    \n",
    "    print(f\"✅ Character set successfully saved to: {char_file_path}\")\n",
    "    print(f\"\\tTotal characters saved: {len(character_set)}\")\n",
    "\n",
    "except Exception as e:\n",
    "    print(f\"⚠️ An error occurred: {e}\")"
   ]
  },
  {
   "cell_type": "code",
   "execution_count": 22,
   "id": "09432b39-23a7-4b6b-a094-198a2d0c14e6",
   "metadata": {},
   "outputs": [],
   "source": [
    "for param in model.FeatureExtraction.parameters():\n",
    "    param.requires_grad = False\n",
    "for param in model.FeatureExtraction.ConvNet.layer4.parameters():\n",
    "    param.requires_grad = True"
   ]
  },
  {
   "cell_type": "code",
   "execution_count": 23,
   "id": "09153b72-deac-4534-9338-6a83b4168d6e",
   "metadata": {},
   "outputs": [
    {
     "name": "stdout",
     "output_type": "stream",
     "text": [
      "🔒 Frozen parameters: 30,101,984\n",
      "🟢 Trainable parameters: 23,787,854\n",
      "📊 Total parameters: 53,889,838\n"
     ]
    }
   ],
   "source": [
    "frozen_params = sum(p.numel() for p in model.parameters() if not p.requires_grad)\n",
    "trainable_params = sum(p.numel() for p in model.parameters() if p.requires_grad)\n",
    "\n",
    "print(f\"🔒 Frozen parameters: {frozen_params:,}\")\n",
    "print(f\"🟢 Trainable parameters: {trainable_params:,}\")\n",
    "print(f\"📊 Total parameters: {frozen_params + trainable_params:,}\")"
   ]
  },
  {
   "cell_type": "code",
   "execution_count": 24,
   "id": "ee08d425",
   "metadata": {},
   "outputs": [],
   "source": [
    "import torch.nn as nn\n",
    "import torch.optim as optim\n",
    "\n",
    "criterion = torch.nn.CTCLoss(zero_infinity=True).to(device)\n",
    "optimizer = optim.Adam(filter(lambda p: p.requires_grad, model.parameters()), lr=1e-4)"
   ]
  },
  {
   "cell_type": "markdown",
   "id": "573bccdc-cec5-48b7-9096-a6d3e591817a",
   "metadata": {},
   "source": [
    "# Train"
   ]
  },
  {
   "cell_type": "code",
   "execution_count": 25,
   "id": "8102c9a1-465b-4e74-ab4f-9223c530cad3",
   "metadata": {},
   "outputs": [
    {
     "name": "stderr",
     "output_type": "stream",
     "text": [
      "c:\\Users\\Admin\\anaconda3\\envs\\dsai\\lib\\site-packages\\transformers\\utils\\generic.py:441: FutureWarning: `torch.utils._pytree._register_pytree_node` is deprecated. Please use `torch.utils._pytree.register_pytree_node` instead.\n",
      "  _torch_pytree._register_pytree_node(\n",
      "Epoch 1/10 [Training]: 100%|██████████| 12375/12375 [1:18:30<00:00,  2.63it/s, loss=0.404]  \n"
     ]
    },
    {
     "name": "stdout",
     "output_type": "stream",
     "text": [
      "Epoch 1: Train Loss = 0.4041\n",
      "⚠️ Skipped 0 empty predictions this epoch\n",
      "Validation Loss = 0.1418 | CER = 0.0319 | WER = 0.2290\n",
      "✅ New best model saved to: models/synth-v3\\thai.pth (CER: 0.0319)\n"
     ]
    },
    {
     "name": "stderr",
     "output_type": "stream",
     "text": [
      "Epoch 2/10 [Training]: 100%|██████████| 12375/12375 [1:05:35<00:00,  3.14it/s, loss=0.0117] \n"
     ]
    },
    {
     "name": "stdout",
     "output_type": "stream",
     "text": [
      "Epoch 2: Train Loss = 0.0117\n",
      "⚠️ Skipped 1 empty predictions this epoch\n",
      "Validation Loss = 0.1189 | CER = 0.0249 | WER = 0.1792\n",
      "✅ New best model saved to: models/synth-v3\\thai.pth (CER: 0.0249)\n",
      "✅ Checkpoint 2 saved to: models/synth-v3\\checkpoint_2.pth\n",
      "\n",
      "🔍 Debug Sample Predictions (Epoch 2, First 10):\n",
      "GT   : 'เริ่มโครงการ'\n",
      "PRED : 'เริ่มโครงการ'\n",
      "---\n",
      "GT   : 'พูดง่ายง่าย'\n",
      "PRED : 'พูดง่ายง่าย'\n",
      "---\n",
      "GT   : 'สวลี'\n",
      "PRED : 'สว'\n",
      "---\n",
      "GT   : 'โคตรคุ้มพี่น้อง'\n",
      "PRED : 'โคตรค้มพี่น้อง'\n",
      "---\n",
      "GT   : 'ในมุมมองของเขา'\n",
      "PRED : 'ในมุมมองของเขา'\n",
      "---\n",
      "GT   : 'ปลาหมึกสาย'\n",
      "PRED : 'ปลาหมิภสาย'\n",
      "---\n",
      "GT   : 'ธนเทพ'\n",
      "PRED : 'ธนเทพ'\n",
      "---\n",
      "GT   : '(VGHC)'\n",
      "PRED : '(VGHC)'\n",
      "---\n",
      "GT   : 'คำปัน.'\n",
      "PRED : 'คำบัน.'\n",
      "---\n",
      "GT   : 'ภักดิ์คีรี'\n",
      "PRED : '.ภักด์อ'\n",
      "---\n"
     ]
    },
    {
     "name": "stderr",
     "output_type": "stream",
     "text": [
      "Epoch 3/10 [Training]: 100%|██████████| 12375/12375 [1:05:00<00:00,  3.17it/s, loss=0.0558] \n"
     ]
    },
    {
     "name": "stdout",
     "output_type": "stream",
     "text": [
      "Epoch 3: Train Loss = 0.0558\n",
      "⚠️ Skipped 0 empty predictions this epoch\n",
      "Validation Loss = 0.0741 | CER = 0.0185 | WER = 0.1310\n",
      "✅ New best model saved to: models/synth-v3\\thai.pth (CER: 0.0185)\n"
     ]
    },
    {
     "name": "stderr",
     "output_type": "stream",
     "text": [
      "Epoch 4/10 [Training]: 100%|██████████| 12375/12375 [1:05:07<00:00,  3.17it/s, loss=0.0427] \n"
     ]
    },
    {
     "name": "stdout",
     "output_type": "stream",
     "text": [
      "Epoch 4: Train Loss = 0.0427\n",
      "⚠️ Skipped 0 empty predictions this epoch\n",
      "Validation Loss = 0.0657 | CER = 0.0165 | WER = 0.1360\n",
      "✅ New best model saved to: models/synth-v3\\thai.pth (CER: 0.0165)\n",
      "✅ Checkpoint 4 saved to: models/synth-v3\\checkpoint_4.pth\n",
      "\n",
      "🔍 Debug Sample Predictions (Epoch 4, First 10):\n",
      "GT   : 'เริ่มโครงการ'\n",
      "PRED : 'เริ่มโครงการ'\n",
      "---\n",
      "GT   : 'พูดง่ายง่าย'\n",
      "PRED : 'พูดง่ายง่าย'\n",
      "---\n",
      "GT   : 'สวลี'\n",
      "PRED : 'สวมี'\n",
      "---\n",
      "GT   : 'โคตรคุ้มพี่น้อง'\n",
      "PRED : 'โคตรค้มพี่น้อง'\n",
      "---\n",
      "GT   : 'ในมุมมองของเขา'\n",
      "PRED : 'ในมุมมองของเขา'\n",
      "---\n",
      "GT   : 'ปลาหมึกสาย'\n",
      "PRED : 'ปลาหมิกสาย'\n",
      "---\n",
      "GT   : 'ธนเทพ'\n",
      "PRED : 'ธนเทพ'\n",
      "---\n",
      "GT   : '(VGHC)'\n",
      "PRED : '(VGHC)'\n",
      "---\n",
      "GT   : 'คำปัน.'\n",
      "PRED : 'คำบัน.'\n",
      "---\n",
      "GT   : 'ภักดิ์คีรี'\n",
      "PRED : 'ภักด์ค์'\n",
      "---\n"
     ]
    },
    {
     "name": "stderr",
     "output_type": "stream",
     "text": [
      "Epoch 5/10 [Training]: 100%|██████████| 12375/12375 [1:05:07<00:00,  3.17it/s, loss=0.0749] \n"
     ]
    },
    {
     "name": "stdout",
     "output_type": "stream",
     "text": [
      "Epoch 5: Train Loss = 0.0749\n",
      "⚠️ Skipped 0 empty predictions this epoch\n",
      "Validation Loss = 0.0542 | CER = 0.0132 | WER = 0.1080\n",
      "✅ New best model saved to: models/synth-v3\\thai.pth (CER: 0.0132)\n"
     ]
    },
    {
     "name": "stderr",
     "output_type": "stream",
     "text": [
      "Epoch 6/10 [Training]: 100%|██████████| 12375/12375 [1:13:22<00:00,  2.81it/s, loss=0.0613] \n"
     ]
    },
    {
     "name": "stdout",
     "output_type": "stream",
     "text": [
      "Epoch 6: Train Loss = 0.0613\n",
      "⚠️ Skipped 0 empty predictions this epoch\n",
      "Validation Loss = 0.0557 | CER = 0.0132 | WER = 0.1100\n",
      "✅ Checkpoint 6 saved to: models/synth-v3\\checkpoint_6.pth\n",
      "\n",
      "🔍 Debug Sample Predictions (Epoch 6, First 10):\n",
      "GT   : 'เริ่มโครงการ'\n",
      "PRED : 'เริ่มโครงการ'\n",
      "---\n",
      "GT   : 'พูดง่ายง่าย'\n",
      "PRED : 'พูดง่ายง่าย'\n",
      "---\n",
      "GT   : 'สวลี'\n",
      "PRED : 'สวดี'\n",
      "---\n",
      "GT   : 'โคตรคุ้มพี่น้อง'\n",
      "PRED : 'โคตรค้มพี่น้อง'\n",
      "---\n",
      "GT   : 'ในมุมมองของเขา'\n",
      "PRED : 'ในมุมมองของเขา'\n",
      "---\n",
      "GT   : 'ปลาหมึกสาย'\n",
      "PRED : 'ปลาหมิกสาย'\n",
      "---\n",
      "GT   : 'ธนเทพ'\n",
      "PRED : 'ธนเทพ'\n",
      "---\n",
      "GT   : '(VGHC)'\n",
      "PRED : '(vGHC)'\n",
      "---\n",
      "GT   : 'คำปัน.'\n",
      "PRED : 'คำปัน.'\n",
      "---\n",
      "GT   : 'ภักดิ์คีรี'\n",
      "PRED : 'ภักด์ค'\n",
      "---\n"
     ]
    },
    {
     "name": "stderr",
     "output_type": "stream",
     "text": [
      "Epoch 7/10 [Training]: 100%|██████████| 12375/12375 [1:10:22<00:00,  2.93it/s, loss=0.00284] \n"
     ]
    },
    {
     "name": "stdout",
     "output_type": "stream",
     "text": [
      "Epoch 7: Train Loss = 0.0028\n",
      "⚠️ Skipped 0 empty predictions this epoch\n",
      "Validation Loss = 0.0566 | CER = 0.0140 | WER = 0.1090\n"
     ]
    },
    {
     "name": "stderr",
     "output_type": "stream",
     "text": [
      "Epoch 8/10 [Training]: 100%|██████████| 12375/12375 [1:05:09<00:00,  3.16it/s, loss=0.0338]  \n"
     ]
    },
    {
     "name": "stdout",
     "output_type": "stream",
     "text": [
      "Epoch 8: Train Loss = 0.0338\n",
      "⚠️ Skipped 0 empty predictions this epoch\n",
      "Validation Loss = 0.0499 | CER = 0.0108 | WER = 0.0870\n",
      "✅ New best model saved to: models/synth-v3\\thai.pth (CER: 0.0108)\n",
      "✅ Checkpoint 8 saved to: models/synth-v3\\checkpoint_8.pth\n",
      "\n",
      "🔍 Debug Sample Predictions (Epoch 8, First 10):\n",
      "GT   : 'เริ่มโครงการ'\n",
      "PRED : 'เริ่มโครงการ'\n",
      "---\n",
      "GT   : 'พูดง่ายง่าย'\n",
      "PRED : 'พูดง่ายง่าย'\n",
      "---\n",
      "GT   : 'สวลี'\n",
      "PRED : 'สวลี'\n",
      "---\n",
      "GT   : 'โคตรคุ้มพี่น้อง'\n",
      "PRED : 'โคตรค้มพี่น้อง'\n",
      "---\n",
      "GT   : 'ในมุมมองของเขา'\n",
      "PRED : 'ในมุมมองของเขา'\n",
      "---\n",
      "GT   : 'ปลาหมึกสาย'\n",
      "PRED : 'ปลาหมึกสาย'\n",
      "---\n",
      "GT   : 'ธนเทพ'\n",
      "PRED : 'ธนเทพ'\n",
      "---\n",
      "GT   : '(VGHC)'\n",
      "PRED : '(VGHC)'\n",
      "---\n",
      "GT   : 'คำปัน.'\n",
      "PRED : 'คำปัน.'\n",
      "---\n",
      "GT   : 'ภักดิ์คีรี'\n",
      "PRED : 'ภักดิ์อีี'\n",
      "---\n"
     ]
    },
    {
     "name": "stderr",
     "output_type": "stream",
     "text": [
      "Epoch 9/10 [Training]: 100%|██████████| 12375/12375 [1:04:57<00:00,  3.18it/s, loss=0.115]   \n"
     ]
    },
    {
     "name": "stdout",
     "output_type": "stream",
     "text": [
      "Epoch 9: Train Loss = 0.1147\n",
      "⚠️ Skipped 0 empty predictions this epoch\n",
      "Validation Loss = 0.0450 | CER = 0.0097 | WER = 0.0880\n",
      "✅ New best model saved to: models/synth-v3\\thai.pth (CER: 0.0097)\n"
     ]
    },
    {
     "name": "stderr",
     "output_type": "stream",
     "text": [
      "Epoch 10/10 [Training]: 100%|██████████| 12375/12375 [1:05:16<00:00,  3.16it/s, loss=0.00107] \n"
     ]
    },
    {
     "name": "stdout",
     "output_type": "stream",
     "text": [
      "Epoch 10: Train Loss = 0.0011\n",
      "⚠️ Skipped 0 empty predictions this epoch\n",
      "Validation Loss = 0.0366 | CER = 0.0090 | WER = 0.0770\n",
      "✅ New best model saved to: models/synth-v3\\thai.pth (CER: 0.0090)\n",
      "✅ Checkpoint 10 saved to: models/synth-v3\\checkpoint_10.pth\n",
      "\n",
      "🔍 Debug Sample Predictions (Epoch 10, First 10):\n",
      "GT   : 'เริ่มโครงการ'\n",
      "PRED : 'เริ่มโครงการ'\n",
      "---\n",
      "GT   : 'พูดง่ายง่าย'\n",
      "PRED : 'พูดง่ายง่าย'\n",
      "---\n",
      "GT   : 'สวลี'\n",
      "PRED : 'สวดี'\n",
      "---\n",
      "GT   : 'โคตรคุ้มพี่น้อง'\n",
      "PRED : 'โคตรค้มพี่น้อง'\n",
      "---\n",
      "GT   : 'ในมุมมองของเขา'\n",
      "PRED : 'ในมุมมองของเขา'\n",
      "---\n",
      "GT   : 'ปลาหมึกสาย'\n",
      "PRED : 'ปลาหมิภสาย'\n",
      "---\n",
      "GT   : 'ธนเทพ'\n",
      "PRED : 'ธนเทพ'\n",
      "---\n",
      "GT   : '(VGHC)'\n",
      "PRED : '(VGHC)'\n",
      "---\n",
      "GT   : 'คำปัน.'\n",
      "PRED : 'คำปัน.'\n",
      "---\n",
      "GT   : 'ภักดิ์คีรี'\n",
      "PRED : 'ภักดิ์คี์'\n",
      "---\n"
     ]
    },
    {
     "data": {
      "image/png": "[encoded data removed]",
      "text/plain": [
       "<Figure size 1400x600 with 3 Axes>"
      ]
     },
     "metadata": {},
     "output_type": "display_data"
    },
    {
     "name": "stdout",
     "output_type": "stream",
     "text": [
      "📊 Metrics plot saved to: metrics/synth-v3\\training_metrics.png\n"
     ]
    }
   ],
   "source": [
    "import torch\n",
    "import os\n",
    "import matplotlib.pyplot as plt\n",
    "import numpy as np\n",
    "from torchmetrics.text import CharErrorRate, WordErrorRate\n",
    "\n",
    "# === Assume these are already defined ===\n",
    "# model, optimizer, criterion, converter, train_loader, valid_loader, device\n",
    "\n",
    "def clean_text(text):\n",
    "    return text.strip().replace(\" \", \"\").lower()\n",
    "\n",
    "# === Training Setup ===\n",
    "num_epochs = 10\n",
    "\n",
    "train_losses = []\n",
    "val_losses = []\n",
    "cer_list = []\n",
    "wer_list = []\n",
    "best_cer = float(\"inf\")\n",
    "\n",
    "# Initialize torchmetrics metrics\n",
    "cer_metric = CharErrorRate()\n",
    "wer_metric = WordErrorRate()\n",
    "\n",
    "for epoch in range(1, num_epochs + 1):\n",
    "    # === Training ===\n",
    "    model.train()\n",
    "    train_bar = tqdm(train_loader, desc=f\"Epoch {epoch}/{num_epochs} [Training]\")\n",
    "    for images, labels in train_bar:\n",
    "        images = images.to(device)\n",
    "\n",
    "        targets, lengths = converter.encode(labels)\n",
    "        targets = targets.to(device)\n",
    "        lengths = lengths.to(device)\n",
    "\n",
    "        preds = model(images, text=targets).log_softmax(2)\n",
    "        batch_size = images.size(0)\n",
    "        preds_size = torch.IntTensor([preds.size(1)] * batch_size).to(device)\n",
    "        preds = preds.permute(1, 0, 2)\n",
    "\n",
    "        loss = criterion(preds, targets, preds_size, lengths)\n",
    "\n",
    "        optimizer.zero_grad()\n",
    "        loss.backward()\n",
    "        optimizer.step()\n",
    "\n",
    "        # Update the progress bar with current loss\n",
    "        train_bar.set_postfix(loss=loss.item())\n",
    "\n",
    "    print(f\"Epoch {epoch}: Train Loss = {loss.item():.4f}\")\n",
    "    train_losses.append(loss.item())\n",
    "\n",
    "    # === Validation ===\n",
    "    model.eval()\n",
    "    val_loss = 0\n",
    "    preds_str_all = []\n",
    "    labels_all = []\n",
    "\n",
    "    with torch.no_grad():\n",
    "        for images, labels in valid_loader:\n",
    "            images = images.to(device)\n",
    "\n",
    "            targets, lengths = converter.encode(labels)\n",
    "            targets = targets.to(device)\n",
    "            lengths = lengths.to(device)\n",
    "\n",
    "            preds = model(images, text=targets).log_softmax(2)\n",
    "            batch_size = images.size(0)\n",
    "            preds_size = torch.IntTensor([preds.size(1)] * batch_size).to(device)\n",
    "            preds = preds.permute(1, 0, 2)\n",
    "\n",
    "            loss = criterion(preds, targets, preds_size, lengths)\n",
    "            val_loss += loss.item()\n",
    "\n",
    "            _, preds_index = preds.max(2)  # [B, T]\n",
    "            preds_index = preds_index.transpose(1, 0).contiguous().view(-1).cpu().numpy()\n",
    "            preds_size_cpu = preds_size.cpu().numpy()\n",
    "            preds_str = converter.decode_greedy(preds_index, preds_size_cpu)\n",
    "\n",
    "            preds_str_all.extend(preds_str)\n",
    "            labels_all.extend(labels)\n",
    "\n",
    "    # === Filter out empty preds ===\n",
    "    preds_filtered = []\n",
    "    labels_filtered = []\n",
    "    empty_count = 0\n",
    "\n",
    "    for p, l in zip(preds_str_all, labels_all):\n",
    "        if p != \"\":\n",
    "            preds_filtered.append(p)\n",
    "            labels_filtered.append(l)\n",
    "        else:\n",
    "            empty_count += 1\n",
    "\n",
    "    print(f\"⚠️ Skipped {empty_count} empty predictions this epoch\")\n",
    "\n",
    "    # === Compute Metrics ===\n",
    "    if preds_filtered:\n",
    "        cer = cer_metric(preds_filtered, labels_filtered).item()\n",
    "        wer = wer_metric(preds_filtered, labels_filtered).item()\n",
    "    else:\n",
    "        cer = 1.0\n",
    "        wer = 1.0\n",
    "        print(\"⚠️ No valid predictions to compute metrics for this epoch.\")\n",
    "\n",
    "    avg_val_loss = val_loss / len(valid_loader)\n",
    "\n",
    "    val_losses.append(avg_val_loss)\n",
    "    cer_list.append(cer)\n",
    "    wer_list.append(wer)\n",
    "\n",
    "    print(f\"Validation Loss = {avg_val_loss:.4f} | CER = {cer:.4f} | WER = {wer:.4f}\")\n",
    "\n",
    "    # === Save best model based on CER ===\n",
    "    if cer < best_cer:\n",
    "        best_cer = cer\n",
    "        best_model_path = os.path.join(model_dir, \"thai.pth\")\n",
    "        torch.save(model.state_dict(), best_model_path)\n",
    "        print(f\"✅ New best model saved to: {best_model_path} (CER: {cer:.4f})\")\n",
    "\n",
    "    # === Debug: Visual Check on Predictions (every 2 epochs) ===\n",
    "    if epoch % 2 == 0:\n",
    "        checkpoint_path = os.path.join(model_dir, f\"checkpoint_{epoch}.pth\")\n",
    "        torch.save(model.state_dict(), checkpoint_path)\n",
    "        print(f\"✅ Checkpoint {epoch} saved to: {checkpoint_path}\")\n",
    "\n",
    "        print(f\"\\n🔍 Debug Sample Predictions (Epoch {epoch}, First 10):\")\n",
    "        for i in range(min(10, len(preds_filtered))):\n",
    "            print(f\"GT   : {labels_filtered[i]!r}\")\n",
    "            print(f\"PRED : {preds_filtered[i]!r}\")\n",
    "            print(\"---\")\n",
    "\n",
    "# === Plotting and Saving Metrics ===\n",
    "epochs = range(1, len(train_losses) + 1)\n",
    "\n",
    "plt.figure(figsize=(14, 6))\n",
    "\n",
    "# Plot Loss\n",
    "plt.subplot(1, 3, 1)\n",
    "plt.plot(epochs, train_losses, label=\"Train Loss\", marker='o')\n",
    "plt.plot(epochs, val_losses, label=\"Validation Loss\", marker='o')\n",
    "plt.xlabel(\"Epoch\")\n",
    "plt.ylabel(\"Loss\")\n",
    "plt.title(\"Loss over Epochs\")\n",
    "plt.legend()\n",
    "plt.grid(True)\n",
    "\n",
    "# Plot CER\n",
    "plt.subplot(1, 3, 2)\n",
    "plt.plot(epochs, cer_list, label=\"CER\", marker='o', color='orange')\n",
    "plt.xlabel(\"Epoch\")\n",
    "plt.ylabel(\"CER\")\n",
    "plt.title(\"Character Error Rate (CER)\")\n",
    "plt.legend()\n",
    "plt.grid(True)\n",
    "\n",
    "# Plot WER\n",
    "plt.subplot(1, 3, 3)\n",
    "plt.plot(epochs, wer_list, label=\"WER\", marker='o', color='green')\n",
    "plt.xlabel(\"Epoch\")\n",
    "plt.ylabel(\"WER\")\n",
    "plt.title(\"Word Error Rate (WER)\")\n",
    "plt.legend()\n",
    "plt.grid(True)\n",
    "\n",
    "plt.tight_layout()\n",
    "plot_path = os.path.join(metrics_dir, \"training_metrics.png\")\n",
    "plt.savefig(plot_path)\n",
    "plt.show()\n",
    "print(f\"📊 Metrics plot saved to: {plot_path}\")"
   ]
  }
 ],
 "metadata": {
  "kernelspec": {
   "display_name": "dsai",
   "language": "python",
   "name": "python3"
  },
  "language_info": {
   "codemirror_mode": {
    "name": "ipython",
    "version": 3
   },
   "file_extension": ".py",
   "mimetype": "text/x-python",
   "name": "python",
   "nbconvert_exporter": "python",
   "pygments_lexer": "ipython3",
   "version": "3.10.13"
  }
 },
 "nbformat": 4,
 "nbformat_minor": 5
}
